{
 "cells": [
  {
   "cell_type": "markdown",
   "id": "f8b891df-07df-4264-bd97-86b2d20ef691",
   "metadata": {},
   "source": [
    "ANAGRAM"
   ]
  },
  {
   "cell_type": "code",
   "execution_count": 6,
   "id": "43c5b12b-16a7-4c41-8a08-df284641960b",
   "metadata": {},
   "outputs": [
    {
     "name": "stdin",
     "output_type": "stream",
     "text": [
      "enter a first string: earth\n",
      "enter a second string: heart\n"
     ]
    },
    {
     "name": "stdout",
     "output_type": "stream",
     "text": [
      "earth and heart is anagram!!!\n"
     ]
    }
   ],
   "source": [
    "\"\"\"inp=earth\n",
    "   out=heart\"\"\"\n",
    "\n",
    "a=input(\"enter a first string:\")\n",
    "b=input(\"enter a second string:\")\n",
    "c=sorted(a)\n",
    "d=sorted(b)\n",
    "if c==d:\n",
    "    print(f\"{a} and {b} is anagram!!!\")\n",
    "else:\n",
    "    print(f\"{a} and {b} is not an anagram!!!\")"
   ]
  },
  {
   "cell_type": "markdown",
   "id": "656fb60b-a6dd-4f30-b3e0-c08e1ad8aac1",
   "metadata": {},
   "source": [
    "Check for palindrome"
   ]
  },
  {
   "cell_type": "code",
   "execution_count": 8,
   "id": "bf9da8fa-4ab2-4fa1-a8be-1ebecb8c5ff3",
   "metadata": {},
   "outputs": [
    {
     "name": "stdin",
     "output_type": "stream",
     "text": [
      "enter a string: 141\n"
     ]
    },
    {
     "name": "stdout",
     "output_type": "stream",
     "text": [
      "141 is the reversed string\n",
      "141  is palindrome!!!\n"
     ]
    }
   ],
   "source": [
    "\"\"\"inp=malayalam\n",
    "   out=its a palindrome\"\"\"\n",
    "\n",
    "l=input(\"enter a string:\")\n",
    "l1=l[::-1]\n",
    "print(f\"{l1} is the reversed string\")\n",
    "if l1==l:\n",
    "    print(f\"{l}  is palindrome!!!\")\n",
    "else:\n",
    "    print(f\"{l}  is not a palindrome!!!\")\n",
    "    "
   ]
  },
  {
   "cell_type": "markdown",
   "id": "d651af0e-c32f-48e6-93bb-a92ee8e65431",
   "metadata": {},
   "source": [
    "prime or not"
   ]
  },
  {
   "cell_type": "code",
   "execution_count": 51,
   "id": "9d4640c9-56b5-461b-a922-a1ca24592f13",
   "metadata": {},
   "outputs": [
    {
     "name": "stdin",
     "output_type": "stream",
     "text": [
      "enter a number: 4\n"
     ]
    },
    {
     "name": "stdout",
     "output_type": "stream",
     "text": [
      "not a prime\n"
     ]
    }
   ],
   "source": [
    "\"\"\"inp=13\n",
    "    out=its a prime\"\"\"\n",
    "\n",
    "#user input\n",
    "num1=int(input(\"enter a number:\"))\n",
    "def prime(num1): \n",
    "    count=0\n",
    "    for i in range(1,num1+1):\n",
    "        if num1%i==0:\n",
    "            count+=1\n",
    "    if count==2:\n",
    "        print(\"prime\")\n",
    "    else:\n",
    "        print(\"not a prime\")\n",
    "prime(num1)    "
   ]
  },
  {
   "cell_type": "code",
   "execution_count": 66,
   "id": "2790a324-eacc-49cf-bb83-e42ed37050f3",
   "metadata": {},
   "outputs": [
    {
     "name": "stdin",
     "output_type": "stream",
     "text": [
      "enter a number range: 6\n"
     ]
    },
    {
     "name": "stdout",
     "output_type": "stream",
     "text": [
      "2\n",
      "3\n",
      "5\n"
     ]
    }
   ],
   "source": [
    "n=int(input(\"enter a number range:\"))\n",
    "for i in range (1,n+1):\n",
    "    if i>1:\n",
    "        for j in range(2,i):\n",
    "            if i%j==0:\n",
    "                break\n",
    "        else:\n",
    "           print(i)\n",
    "     \n"
   ]
  },
  {
   "cell_type": "markdown",
   "id": "01127a8f-d5c5-4734-b3c4-6810f197a197",
   "metadata": {},
   "source": [
    "Maximum and Minimum number"
   ]
  },
  {
   "cell_type": "code",
   "execution_count": 70,
   "id": "ae6b8924-4ee6-4e7b-980c-f9d302187638",
   "metadata": {},
   "outputs": [
    {
     "name": "stdout",
     "output_type": "stream",
     "text": [
      "[5, 6, 7, 8, 21, 90]\n",
      "The maximum no : 90\n",
      "The minimum no : 5\n"
     ]
    }
   ],
   "source": [
    "l=[5,6,8,7,90,21]\n",
    "for i in range(0,len(l)):\n",
    "    for j in range(i,len(l)):\n",
    "        if l[i]>l[j]:\n",
    "            l[i],l[j]=l[j],l[i]\n",
    "print(l)\n",
    "print(f\"The maximum no : {l[-1]}\")\n",
    "print(f\"The minimum no : {l[0]}\")\n",
    "    "
   ]
  },
  {
   "cell_type": "code",
   "execution_count": 75,
   "id": "8389a0d1-f0d9-4b46-8436-d48086c4b3eb",
   "metadata": {},
   "outputs": [
    {
     "name": "stdout",
     "output_type": "stream",
     "text": [
      "The maximum no : 90\n",
      "The maximum no : 5\n"
     ]
    }
   ],
   "source": [
    "l=[5,6,8,7,90,21]\n",
    "l1=l[0]\n",
    "l2=l[0]\n",
    "for i in l:\n",
    "    if i>l1:\n",
    "        l1=i\n",
    "    elif i<l2:\n",
    "        l2=i\n",
    "        \n",
    "        \n",
    "print(f\"The maximum no : {l1}\")\n",
    "print(f\"The maximum no : {l2}\")\n",
    "        \n",
    "    "
   ]
  },
  {
   "cell_type": "markdown",
   "id": "2d66fbd9-66f6-4763-ac17-468e78034812",
   "metadata": {},
   "source": [
    "second largest and second smallest"
   ]
  },
  {
   "cell_type": "code",
   "execution_count": 78,
   "id": "e9463c87-7040-4f01-b64f-fba2dcdc9526",
   "metadata": {},
   "outputs": [
    {
     "name": "stdout",
     "output_type": "stream",
     "text": [
      "[5, 6, 7, 8, 21, 90]\n",
      "The second largest no : 21\n",
      "The second smallest no : 6\n"
     ]
    }
   ],
   "source": [
    "l=[5,6,8,7,90,21]\n",
    "for i in range(0,len(l)):\n",
    "    for j in range(i,len(l)):\n",
    "        if l[i]>l[j]:\n",
    "            l[i],l[j]=l[j],l[i]\n",
    "print(l)\n",
    "print(f\"The second largest no : {l[-2]}\")\n",
    "print(f\"The second smallest no : {l[1]}\")\n"
   ]
  },
  {
   "cell_type": "markdown",
   "id": "1162a686-4d0c-406b-acab-6323dd65a771",
   "metadata": {},
   "source": [
    "sort in ascending and descending "
   ]
  },
  {
   "cell_type": "code",
   "execution_count": 81,
   "id": "1baab699-819c-4257-ad3f-f2b1662c4b6e",
   "metadata": {},
   "outputs": [
    {
     "name": "stdout",
     "output_type": "stream",
     "text": [
      "ascending order:[5, 6, 7, 8, 21, 90]\n",
      "-------------------------------------\n",
      "descending order:[1, 2, 4, 5, 9, 90]\n"
     ]
    }
   ],
   "source": [
    "l=[5,6,8,7,90,21]\n",
    "for i in range(0,len(l)):\n",
    "    for j in range(i,len(l)):\n",
    "        if l[i]>l[j]:\n",
    "            l[i],l[j]=l[j],l[i]\n",
    "       \n",
    "print(f\"ascending order:{l}\")\n",
    "print(\"-------------------------------------\")\n",
    "l1=[4,9,1,2,5,90]\n",
    "for i in range(0,len(l1)):\n",
    "    for j in range(i,len(l1)):\n",
    "        if l1[i]>l1[j]:\n",
    "            l1[i],l1[j]=l1[j],l1[i]\n",
    "print(f\"descending order:{l1}\")\n"
   ]
  },
  {
   "cell_type": "markdown",
   "id": "d5847226-6482-4015-842d-1bae844b3de7",
   "metadata": {},
   "source": [
    "check even or odd"
   ]
  },
  {
   "cell_type": "code",
   "execution_count": 86,
   "id": "ded83614-f62f-4cda-89ec-ee7c6dcae7ba",
   "metadata": {},
   "outputs": [
    {
     "name": "stdout",
     "output_type": "stream",
     "text": [
      "5is odd\n",
      "6is even\n",
      "8is even\n",
      "7is odd\n",
      "90is even\n",
      "21is odd\n"
     ]
    }
   ],
   "source": [
    "l=[5,6,8,7,90,21]\n",
    "for i in range(0,len(l)):\n",
    "    \n",
    "        if l[i]%2==0:\n",
    "            print(f\"{l[i]}is even\")\n",
    "        else:\n",
    "            print(f\"{l[i]}is odd\")"
   ]
  },
  {
   "cell_type": "markdown",
   "id": "c938433e-c84f-4d11-84aa-68ca577c23b4",
   "metadata": {},
   "source": [
    "Largest of three numbers"
   ]
  },
  {
   "cell_type": "code",
   "execution_count": 87,
   "id": "bbb38fd8-f855-492d-a441-b5be13aeaf4c",
   "metadata": {},
   "outputs": [
    {
     "name": "stdin",
     "output_type": "stream",
     "text": [
      "enter a first number: 100\n",
      "enter a second number: 300\n",
      "enter a third number: 2\n"
     ]
    },
    {
     "name": "stdout",
     "output_type": "stream",
     "text": [
      "300 is largest\n"
     ]
    }
   ],
   "source": [
    "a=int(input(\"enter a first number:\"))\n",
    "b=int(input(\"enter a second number:\"))\n",
    "c=int(input(\"enter a third number:\"))\n",
    "if a>b and a>c:\n",
    "    print(f\"{a} is largest\")\n",
    "elif b>c and b>a:\n",
    "    print(f\"{b} is largest\")\n",
    "else:\n",
    "    print(f\"{c} is largest\")"
   ]
  },
  {
   "cell_type": "markdown",
   "id": "45628e55-a214-48e9-b9de-1f95ab48909d",
   "metadata": {},
   "source": [
    "reverse of a string"
   ]
  },
  {
   "cell_type": "code",
   "execution_count": 90,
   "id": "b51ee5f5-4553-4063-b13e-78994052d89a",
   "metadata": {},
   "outputs": [
    {
     "name": "stdin",
     "output_type": "stream",
     "text": [
      "enter a string: gowri\n"
     ]
    },
    {
     "name": "stdout",
     "output_type": "stream",
     "text": [
      "irwog is the reversed string\n"
     ]
    }
   ],
   "source": [
    "l=input(\"enter a string:\")\n",
    "l1=l[::-1]\n",
    "print(f\"{l1} is the reversed string\")"
   ]
  },
  {
   "cell_type": "markdown",
   "id": "e8029fe7-5ee2-484c-a889-84620aeb9555",
   "metadata": {},
   "source": [
    "remove duplicates from a list"
   ]
  },
  {
   "cell_type": "code",
   "execution_count": 100,
   "id": "60e18bd4-36ea-497e-b3d2-1bd892fd3cf2",
   "metadata": {},
   "outputs": [
    {
     "name": "stdout",
     "output_type": "stream",
     "text": [
      "{5, 6, 7, 8, 21, 90}\n"
     ]
    }
   ],
   "source": [
    "l=[5,6,8,7,90,21,5,5,6,90]\n",
    "set1=set(l)\n",
    "print(set1)\n",
    "       \n",
    "    "
   ]
  },
  {
   "cell_type": "markdown",
   "id": "2a66d6b8-58da-4a3c-a75e-4590d05b5a4d",
   "metadata": {},
   "source": [
    "Merge and sort the list"
   ]
  },
  {
   "cell_type": "code",
   "execution_count": 105,
   "id": "cabef867-b69b-43ab-b383-d07eb084faa1",
   "metadata": {},
   "outputs": [
    {
     "name": "stdout",
     "output_type": "stream",
     "text": [
      "merging two list: [5, 6, 8, 7, 90, 21, 78, 89, 45, 32]\n",
      "ascending order:[5, 6, 7, 8, 21, 32, 45, 78, 89, 90]\n"
     ]
    }
   ],
   "source": [
    "l=[5,6,8,7,90,21]\n",
    "l2=[78,89,45,32]\n",
    "l.extend(l2)\n",
    "print(f\"merging two list: {l}\")\n",
    "for i in range (0,len(l)):\n",
    "    for j in range(i,len(l)):\n",
    "        if l[i]>l[j]:\n",
    "            l[i],l[j]=l[j],l[i]\n",
    "print(f\"ascending order:{l}\")"
   ]
  },
  {
   "cell_type": "markdown",
   "id": "98262ad6-09c5-4a0c-bd3e-a67230819ecd",
   "metadata": {},
   "source": [
    "check positive or negative"
   ]
  },
  {
   "cell_type": "code",
   "execution_count": 107,
   "id": "3c62f250-d7c0-4c1a-bbdf-26a687c5a4be",
   "metadata": {},
   "outputs": [
    {
     "name": "stdin",
     "output_type": "stream",
     "text": [
      "enter a number: 5\n"
     ]
    },
    {
     "name": "stdout",
     "output_type": "stream",
     "text": [
      "5 is positive\n"
     ]
    }
   ],
   "source": [
    "a=int(input(\"enter a number:\"))\n",
    "if a>=0:\n",
    "    print(f\"{a} is positive\")\n",
    "else:\n",
    "    print(f\"{a} is negative\")"
   ]
  },
  {
   "cell_type": "markdown",
   "id": "1c532b71-bbf7-48b0-ad3c-29efe177a4bd",
   "metadata": {},
   "source": [
    "Find the length of the string without using len()"
   ]
  },
  {
   "cell_type": "code",
   "execution_count": 109,
   "id": "af913f72-8000-4e4d-bb57-a6c620da5d51",
   "metadata": {},
   "outputs": [
    {
     "name": "stdout",
     "output_type": "stream",
     "text": [
      "6\n"
     ]
    }
   ],
   "source": [
    "l=[5,6,8,7,90,21]\n",
    "count=0\n",
    "for i in l:\n",
    "    count+=1\n",
    "print(count)"
   ]
  },
  {
   "cell_type": "markdown",
   "id": "ffb7aa3f-9f13-409b-9517-a01a54312e78",
   "metadata": {},
   "source": [
    "convert a decimal to binary"
   ]
  },
  {
   "cell_type": "code",
   "execution_count": 113,
   "id": "eec42150-095f-40b7-b0a8-ed77f34bd873",
   "metadata": {},
   "outputs": [
    {
     "name": "stdout",
     "output_type": "stream",
     "text": [
      "456.0\n"
     ]
    },
    {
     "ename": "TypeError",
     "evalue": "'float' object cannot be interpreted as an integer",
     "output_type": "error",
     "traceback": [
      "\u001b[1;31m---------------------------------------------------------------------------\u001b[0m",
      "\u001b[1;31mTypeError\u001b[0m                                 Traceback (most recent call last)",
      "Cell \u001b[1;32mIn[113], line 4\u001b[0m\n\u001b[0;32m      2\u001b[0m l2\u001b[38;5;241m=\u001b[39m\u001b[38;5;28mfloat\u001b[39m(l)\n\u001b[0;32m      3\u001b[0m \u001b[38;5;28mprint\u001b[39m(l2)\n\u001b[1;32m----> 4\u001b[0m l1\u001b[38;5;241m=\u001b[39m\u001b[38;5;28mbin\u001b[39m(l2)\n\u001b[0;32m      5\u001b[0m \u001b[38;5;28mprint\u001b[39m(l1)\n",
      "\u001b[1;31mTypeError\u001b[0m: 'float' object cannot be interpreted as an integer"
     ]
    }
   ],
   "source": [
    "l=456\n",
    "l2=float(l)\n",
    "print(l2)\n",
    "l1=bin(l2)\n",
    "print(l1)"
   ]
  }
 ],
 "metadata": {
  "kernelspec": {
   "display_name": "Python 3 (ipykernel)",
   "language": "python",
   "name": "python3"
  },
  "language_info": {
   "codemirror_mode": {
    "name": "ipython",
    "version": 3
   },
   "file_extension": ".py",
   "mimetype": "text/x-python",
   "name": "python",
   "nbconvert_exporter": "python",
   "pygments_lexer": "ipython3",
   "version": "3.12.7"
  }
 },
 "nbformat": 4,
 "nbformat_minor": 5
}
